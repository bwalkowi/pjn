{
 "cells": [
  {
   "cell_type": "code",
   "execution_count": 1,
   "metadata": {},
   "outputs": [],
   "source": [
    "from WNQuery import *\n",
    "\n",
    "\n",
    "QUERY = WNQuery('./plwordnet-3.2-visdisc.xml', log=open('pywnxml.log', 'w'))"
   ]
  },
  {
   "cell_type": "code",
   "execution_count": 2,
   "metadata": {},
   "outputs": [
    {
     "name": "stdout",
     "output_type": "stream",
     "text": [
      "PLWN-00003675-n  {strata:1, utrata:1, szkoda:2, uszczerbek:1}  ()\n",
      "PLWN-00006533-n  {szkoda:1}  (brak danych)\n"
     ]
    }
   ],
   "source": [
    "# Znajdź wszystkie znaczenia rzeczownika szkoda oraz wymień ich synonimy (jeśli posiadają).\n",
    "for synset in QUERY.lookUpLiteral('szkoda', 'n'):\n",
    "    print(synset.toString())"
   ]
  },
  {
   "cell_type": "code",
   "execution_count": 5,
   "metadata": {},
   "outputs": [
    {
     "name": "stdout",
     "output_type": "stream",
     "text": [
      "PLWN-00410901-n  {wypadek komunikacyjny:1}  ()\n",
      "PLWN-00003982-n  {wypadek:1}  ()\n",
      "PLWN-00027419-n  {zdarzenie oceniane negatywnie:1}  (brak danych)\n",
      "PLWN-00006526-n  {wydarzenie:1, wypadek:3, zdarzenie:2, historia:3}  ()\n"
     ]
    },
    {
     "data": {
      "image/png": "[encoded data removed]",
      "text/plain": [
       "<matplotlib.figure.Figure at 0x7fa9d7961b38>"
      ]
     },
     "metadata": {},
     "output_type": "display_data"
    }
   ],
   "source": [
    "# Znajdź domknięcie przechodnie relacji hiperonimi dla pierwszego znaczenia wyrażenia \n",
    "# wypadek drogowy i przedstaw je w postaci grafu skierowanego.\n",
    "from collections import deque\n",
    "\n",
    "import networkx as nx\n",
    "import numpy as np\n",
    "import matplotlib.pyplot as plt\n",
    "\n",
    "\n",
    "POS = 'n'\n",
    "RELATION = 'hypernym'\n",
    "\n",
    "\n",
    "synset = QUERY.lookUpSense('wypadek drogowy', 1, POS)\n",
    "edges = []\n",
    "vertices = deque([synset.wnid])\n",
    "while vertices:\n",
    "    vertex = vertices.popleft()\n",
    "    for neighbour_vertex in QUERY.lookUpRelation(vertex, POS, RELATION):\n",
    "        vertices.append(neighbour_vertex)\n",
    "        edges.append((vertex, neighbour_vertex))\n",
    "        print(QUERY.getSynset(neighbour_vertex, POS).toString())\n",
    "\n",
    "\n",
    "%matplotlib inline\n",
    "G = nx.DiGraph()\n",
    "G.add_edges_from(edges)\n",
    "plt.figure(figsize=(17,7)) \n",
    "nx.draw_networkx(G)"
   ]
  },
  {
   "cell_type": "code",
   "execution_count": 6,
   "metadata": {},
   "outputs": [
    {
     "name": "stdout",
     "output_type": "stream",
     "text": [
      "PLWN-00001284-n  {zderzenie:2, kraksa:1}  ()\n",
      "PLWN-00006486-n  {kolizja:2}  ()\n",
      "PLWN-00016131-n  {karambol:1}  ()\n",
      "PLWN-00034688-n  {zawał:2}  ()\n",
      "PLWN-00034689-n  {tąpnięcie:1}  ()\n",
      "PLWN-00241026-n  {kapotaż:1}  ()\n",
      "PLWN-00258639-n  {wykolejenie:2}  ()\n",
      "PLWN-00389170-n  {zakrztuszenie:1, zachłyśnięcie:1, aspiracja:3}  ()\n",
      "PLWN-00410901-n  {wypadek komunikacyjny:1}  ()\n",
      "PLWN-00411618-n  {katastrofa budowlana:1}  ()\n",
      "PLWN-00436137-n  {wypadek jądrowy:1}  ()\n"
     ]
    }
   ],
   "source": [
    "# Znajdź bezpośrednie hiponimy rzeczownika wypadek1.\n",
    "POS = 'n'\n",
    "RELATION = 'hyponym'\n",
    "\n",
    "synset = QUERY.lookUpSense('wypadek', 1, POS)\n",
    "for hyponym_synset in QUERY.lookUpRelation(synset.wnid, POS, RELATION):\n",
    "    print(QUERY.getSynset(hyponym_synset, POS).toString())"
   ]
  },
  {
   "cell_type": "code",
   "execution_count": 7,
   "metadata": {
    "scrolled": true
   },
   "outputs": [
    {
     "name": "stdout",
     "output_type": "stream",
     "text": [
      "PLWN-00235346-n  {czołówka:9, zderzenie czołowe:1}  ()\n",
      "PLWN-00471555-n  {stłuczka:1}  ()\n",
      "PLWN-00441365-n  {kolizja drogowa:1}  ()\n",
      "PLWN-00037295-n  {obwał:1}  ()\n",
      "PLWN-00410902-n  {wypadek drogowy:1}  ()\n"
     ]
    }
   ],
   "source": [
    "# Znajdź hiponimy drugiego rzędu dla rzeczownika wypadek1.\n",
    "POS = 'n'\n",
    "RELATION = 'hyponym'\n",
    "\n",
    "synset = QUERY.lookUpSense('wypadek', 1, POS)\n",
    "for hyponym_order1 in QUERY.lookUpRelation(synset.wnid, POS, RELATION):\n",
    "    for hyponym_order2 in QUERY.lookUpRelation(hyponym_order1, POS, RELATION):\n",
    "        print(QUERY.getSynset(hyponym_order2, POS).toString())"
   ]
  },
  {
   "cell_type": "code",
   "execution_count": null,
   "metadata": {
    "collapsed": true
   },
   "outputs": [],
   "source": [
    "# Przedstaw w postaci grafu skierowanego (z etykietami dla krawędzi) relacje semantyczne pomiędzy następującymi grupami leksemów:\n",
    "# szkoda2, strata1, uszczerbek1, szkoda majątkowa1, uszczerbek na zdrowiu1, krzywda1, niesprawiedliwość1, nieszczęście2.\n",
    "G1 = [\n",
    "    ('szkoda', 2),\n",
    "    ('strata', 1),\n",
    "    ('uszczerbek', 1),\n",
    "    ('szkoda majątkowa', 1),\n",
    "    ('uszczerbek na zdrowiu', 1),\n",
    "    ('krzywda', 1),\n",
    "    ('niesprawiedliwość', 1),\n",
    "    ('nieszczęście', 2)\n",
    "]\n",
    "\n",
    "G2 = [\n",
    "    ('wypadek', 1),\n",
    "    ('wypadek komunikacyjny', 1),\n",
    "    ('kolizja', 2),\n",
    "    ('zderzenie', 2),\n",
    "    ('kolizja drogowa', 1),\n",
    "    ('bezkolizyjny', 2),\n",
    "    ('katastrofa budowlana', 1),\n",
    "    ('wypadek drogowy', 1)\n",
    "]\n",
    "\n",
    "\n"
   ]
  },
  {
   "cell_type": "code",
   "execution_count": 8,
   "metadata": {},
   "outputs": [
    {
     "name": "stdout",
     "output_type": "stream",
     "text": [
      "35\n"
     ]
    }
   ],
   "source": [
    "# Znajdź wartość miary pokrewieństwa semantycznego Leacocka-Chodorowa pomiędzy następującymi parami leksemów \n",
    "POS = 'n'\n",
    "RELATION = 'hypernym'\n",
    "\n",
    "\n",
    "MAX_DEPTH = max(QUERY.getMaxDepth(wnid, POS, RELATION) for wnid in QUERY.m_ndat)\n",
    "print(MAX_DEPTH)"
   ]
  },
  {
   "cell_type": "code",
   "execution_count": 10,
   "metadata": {},
   "outputs": [
    {
     "name": "stdout",
     "output_type": "stream",
     "text": [
      "LCH similarity between ('szkoda', 2) and ('wypadek', 1) is 1.2430 with path len 4\n",
      "LCH similarity between ('kolizja', 2) and ('szkoda majątkowa', 1) is 1.0669 with path len 6\n",
      "LCH similarity between ('nieszczęście', 2) and ('katastrofa budowlana', 1) is 0.0062 with path len 69\n"
     ]
    }
   ],
   "source": [
    "import math\n",
    "\n",
    "\n",
    "LEXEMS = [\n",
    "    (('szkoda', 2), ('wypadek', 1)),\n",
    "    (('kolizja', 2), ('szkoda majątkowa', 1)),\n",
    "    (('nieszczęście', 2), ('katastrofa budowlana', 1))\n",
    "]\n",
    "\n",
    "\n",
    "def path_len(wnid1, wnid2):\n",
    "    ci_r1 = None\n",
    "    ci_r2 = None\n",
    "    path_length = 2 * MAX_DEPTH\n",
    "    for key1, val1 in QUERY.getReach(wnid1, POS, RELATION, False):\n",
    "        for key2, val2 in QUERY.getReach(wnid2, POS, RELATION, False):\n",
    "            if key1 == key2:\n",
    "                if val1 + val2 < path_length:\n",
    "                    ci_r1 = (key1, val1)\n",
    "                    ci_r2 = (key2, val2)\n",
    "                    path_length = val1 + val2\n",
    "\n",
    "    return path_length - 1 # because the common node was counted twice\n",
    "\n",
    "\n",
    "for lexem1, lexem2 in LEXEMS:\n",
    "    synset1 = QUERY.lookUpSense(lexem1[0], lexem1[1], POS)\n",
    "    synset2 = QUERY.lookUpSense(lexem2[0], lexem2[1], POS)\n",
    "    path_length = path_len(synset1.wnid, synset2.wnid)\n",
    "    lch_similarity = -1.0 * math.log10(path_length / (2.0 * MAX_DEPTH))\n",
    "    print(f'LCH similarity between {lexem1} and {lexem2} is {lch_similarity:0.4f} with path len {path_length}')"
   ]
  },
  {
   "cell_type": "code",
   "execution_count": null,
   "metadata": {
    "collapsed": true
   },
   "outputs": [],
   "source": []
  }
 ],
 "metadata": {
  "kernelspec": {
   "display_name": "Python 3",
   "language": "python",
   "name": "python3"
  },
  "language_info": {
   "codemirror_mode": {
    "name": "ipython",
    "version": 3
   },
   "file_extension": ".py",
   "mimetype": "text/x-python",
   "name": "python",
   "nbconvert_exporter": "python",
   "pygments_lexer": "ipython3",
   "version": "3.6.1"
  }
 },
 "nbformat": 4,
 "nbformat_minor": 2
}
